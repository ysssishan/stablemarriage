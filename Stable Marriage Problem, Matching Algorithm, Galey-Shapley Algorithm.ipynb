{
 "cells": [
  {
   "cell_type": "markdown",
   "id": "d6120b4e",
   "metadata": {},
   "source": [
    "Given n men and n women, where each person has ranked all potential mates (from the opposite sex), match those people so that no two people of opposite sex would both rather have each other than their current partners."
   ]
  },
  {
   "cell_type": "code",
   "execution_count": 4,
   "id": "3d05aed4",
   "metadata": {},
   "outputs": [
    {
     "name": "stdout",
     "output_type": "stream",
     "text": [
      "'Preference List.xlsx'\r\n",
      " README.md\r\n",
      "'Stable Marriage Problem, Matching Algorithm, Galey-Shapley Algorithm.ipynb'\r\n"
     ]
    }
   ],
   "source": [
    "!ls"
   ]
  },
  {
   "cell_type": "code",
   "execution_count": 24,
   "id": "36d94c2e",
   "metadata": {},
   "outputs": [
    {
     "data": {
      "text/plain": [
       "str"
      ]
     },
     "execution_count": 24,
     "metadata": {},
     "output_type": "execute_result"
    }
   ],
   "source": [
    "import pandas as pd\n",
    "df_people = pd.read_excel(\"Preference List.xlsx\")\n",
    "type(df_people.loc[0, \"Preferences\"])"
   ]
  },
  {
   "cell_type": "code",
   "execution_count": 16,
   "id": "aa43d097",
   "metadata": {},
   "outputs": [
    {
     "ename": "AttributeError",
     "evalue": "'list' object has no attribute 'type'",
     "output_type": "error",
     "traceback": [
      "\u001b[0;31m---------------------------------------------------------------------------\u001b[0m",
      "\u001b[0;31mAttributeError\u001b[0m                            Traceback (most recent call last)",
      "\u001b[0;32m/tmp/ipykernel_8454/2228439694.py\u001b[0m in \u001b[0;36m<module>\u001b[0;34m\u001b[0m\n\u001b[0;32m----> 1\u001b[0;31m \u001b[0mdf_people\u001b[0m\u001b[0;34m[\u001b[0m\u001b[0;34m\"Preferences\"\u001b[0m\u001b[0;34m]\u001b[0m\u001b[0;34m.\u001b[0m\u001b[0mstr\u001b[0m\u001b[0;34m.\u001b[0m\u001b[0msplit\u001b[0m\u001b[0;34m(\u001b[0m\u001b[0;34m\",\"\u001b[0m\u001b[0;34m,\u001b[0m \u001b[0mexpand\u001b[0m\u001b[0;34m=\u001b[0m\u001b[0;32mFalse\u001b[0m\u001b[0;34m)\u001b[0m\u001b[0;34m[\u001b[0m\u001b[0;36m0\u001b[0m\u001b[0;34m]\u001b[0m\u001b[0;34m.\u001b[0m\u001b[0mtype\u001b[0m\u001b[0;34m(\u001b[0m\u001b[0;34m)\u001b[0m\u001b[0;34m\u001b[0m\u001b[0;34m\u001b[0m\u001b[0m\n\u001b[0m",
      "\u001b[0;31mAttributeError\u001b[0m: 'list' object has no attribute 'type'"
     ]
    }
   ],
   "source": [
    "df_people[\"Preferences\"].str.split(\",\", expand=False)[0]"
   ]
  },
  {
   "cell_type": "code",
   "execution_count": 27,
   "id": "2163da72",
   "metadata": {},
   "outputs": [
    {
     "data": {
      "text/html": [
       "<div>\n",
       "<style scoped>\n",
       "    .dataframe tbody tr th:only-of-type {\n",
       "        vertical-align: middle;\n",
       "    }\n",
       "\n",
       "    .dataframe tbody tr th {\n",
       "        vertical-align: top;\n",
       "    }\n",
       "\n",
       "    .dataframe thead th {\n",
       "        text-align: right;\n",
       "    }\n",
       "</style>\n",
       "<table border=\"1\" class=\"dataframe\">\n",
       "  <thead>\n",
       "    <tr style=\"text-align: right;\">\n",
       "      <th></th>\n",
       "      <th>Name</th>\n",
       "      <th>Gender</th>\n",
       "      <th>Preferences</th>\n",
       "      <th>Partner</th>\n",
       "    </tr>\n",
       "  </thead>\n",
       "  <tbody>\n",
       "    <tr>\n",
       "      <th>0</th>\n",
       "      <td>Anne</td>\n",
       "      <td>f</td>\n",
       "      <td>[Dieter, Emil, Claudio, Berthold, Anton]</td>\n",
       "      <td>NaN</td>\n",
       "    </tr>\n",
       "    <tr>\n",
       "      <th>1</th>\n",
       "      <td>Berta</td>\n",
       "      <td>f</td>\n",
       "      <td>[Dieter, Emil, Claudio, Berthold, Anton]</td>\n",
       "      <td>NaN</td>\n",
       "    </tr>\n",
       "    <tr>\n",
       "      <th>2</th>\n",
       "      <td>Claudia</td>\n",
       "      <td>f</td>\n",
       "      <td>[Berthold, Anton, Dieter, Emil, Claudio]</td>\n",
       "      <td>NaN</td>\n",
       "    </tr>\n",
       "    <tr>\n",
       "      <th>3</th>\n",
       "      <td>Diana</td>\n",
       "      <td>f</td>\n",
       "      <td>[Claudio, Berthold, Anton, Dieter, Emil]</td>\n",
       "      <td>NaN</td>\n",
       "    </tr>\n",
       "    <tr>\n",
       "      <th>4</th>\n",
       "      <td>Fiona</td>\n",
       "      <td>f</td>\n",
       "      <td>[Dieter, Emil, Claudio, Berthold, Anton]</td>\n",
       "      <td>NaN</td>\n",
       "    </tr>\n",
       "    <tr>\n",
       "      <th>5</th>\n",
       "      <td>Anton</td>\n",
       "      <td>m</td>\n",
       "      <td>[Claudia, Fiona, Diana, Berta, Anne]</td>\n",
       "      <td>NaN</td>\n",
       "    </tr>\n",
       "    <tr>\n",
       "      <th>6</th>\n",
       "      <td>Berthold</td>\n",
       "      <td>m</td>\n",
       "      <td>[Claudia, Fiona, Diana, Berta, Anne]</td>\n",
       "      <td>NaN</td>\n",
       "    </tr>\n",
       "    <tr>\n",
       "      <th>7</th>\n",
       "      <td>Claudio</td>\n",
       "      <td>m</td>\n",
       "      <td>[Berta, Anne, Claudia, Fiona, Diana]</td>\n",
       "      <td>NaN</td>\n",
       "    </tr>\n",
       "    <tr>\n",
       "      <th>8</th>\n",
       "      <td>Dieter</td>\n",
       "      <td>m</td>\n",
       "      <td>[Diana, Berta, Anne, Claudia, Fiona]</td>\n",
       "      <td>NaN</td>\n",
       "    </tr>\n",
       "    <tr>\n",
       "      <th>9</th>\n",
       "      <td>Emil</td>\n",
       "      <td>m</td>\n",
       "      <td>[Fiona, Diana, Berta, Anne, Claudia]</td>\n",
       "      <td>NaN</td>\n",
       "    </tr>\n",
       "  </tbody>\n",
       "</table>\n",
       "</div>"
      ],
      "text/plain": [
       "       Name Gender                               Preferences  Partner\n",
       "0      Anne      f  [Dieter, Emil, Claudio, Berthold, Anton]      NaN\n",
       "1     Berta      f  [Dieter, Emil, Claudio, Berthold, Anton]      NaN\n",
       "2   Claudia      f  [Berthold, Anton, Dieter, Emil, Claudio]      NaN\n",
       "3     Diana      f  [Claudio, Berthold, Anton, Dieter, Emil]      NaN\n",
       "4     Fiona      f  [Dieter, Emil, Claudio, Berthold, Anton]      NaN\n",
       "5     Anton      m      [Claudia, Fiona, Diana, Berta, Anne]      NaN\n",
       "6  Berthold      m      [Claudia, Fiona, Diana, Berta, Anne]      NaN\n",
       "7   Claudio      m      [Berta, Anne, Claudia, Fiona, Diana]      NaN\n",
       "8    Dieter      m      [Diana, Berta, Anne, Claudia, Fiona]      NaN\n",
       "9      Emil      m      [Fiona, Diana, Berta, Anne, Claudia]      NaN"
      ]
     },
     "execution_count": 27,
     "metadata": {},
     "output_type": "execute_result"
    }
   ],
   "source": [
    "df_people[\"Preferences\"] = df_people[\"Preferences\"].str.split(\", \", expand=False)\n",
    "df_people.loc"
   ]
  },
  {
   "cell_type": "markdown",
   "id": "2525a8dc",
   "metadata": {},
   "source": [
    "## Implementation of the Galey-Shapley Algorithm\n",
    "\n",
    "Every free men gets a women according to his preference (if it is still free). Assign women to men by iterating over all men.\n",
    "\n",
    "If a woman is not free, and she finds that she linked the proposing man more than her current partner, then she takes the proposing man.\n",
    "\n",
    "Repeat the entire process over and over until everybody is married"
   ]
  },
  {
   "cell_type": "code",
   "execution_count": null,
   "id": "59bc1479",
   "metadata": {},
   "outputs": [],
   "source": []
  }
 ],
 "metadata": {
  "kernelspec": {
   "display_name": "Python 3 (ipykernel)",
   "language": "python",
   "name": "python3"
  },
  "language_info": {
   "codemirror_mode": {
    "name": "ipython",
    "version": 3
   },
   "file_extension": ".py",
   "mimetype": "text/x-python",
   "name": "python",
   "nbconvert_exporter": "python",
   "pygments_lexer": "ipython3",
   "version": "3.9.13"
  },
  "toc": {
   "base_numbering": 1,
   "nav_menu": {},
   "number_sections": true,
   "sideBar": true,
   "skip_h1_title": false,
   "title_cell": "Table of Contents",
   "title_sidebar": "Contents",
   "toc_cell": false,
   "toc_position": {},
   "toc_section_display": true,
   "toc_window_display": false
  }
 },
 "nbformat": 4,
 "nbformat_minor": 5
}
